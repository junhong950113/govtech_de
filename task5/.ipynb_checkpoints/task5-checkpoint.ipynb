{
 "cells": [
  {
   "cell_type": "code",
   "execution_count": 1,
   "id": "0ed01c2f",
   "metadata": {},
   "outputs": [],
   "source": [
    "import pandas as pd\n",
    "from sklearn.naive_bayes import GaussianNB\n",
    "from sklearn.metrics import accuracy_score\n",
    "from sklearn.model_selection import train_test_split"
   ]
  },
  {
   "cell_type": "code",
   "execution_count": 2,
   "id": "9c0e126a",
   "metadata": {},
   "outputs": [],
   "source": [
    "# reading dataset provided for training and testing\n",
    "df=pd.read_csv(\"pre-train-data.csv\")"
   ]
  },
  {
   "cell_type": "code",
   "execution_count": 3,
   "id": "2b96acf4",
   "metadata": {
    "scrolled": true
   },
   "outputs": [],
   "source": [
    "# only involve target and independent variables\n",
    "df=df[['buying','maint','doors','lug_boot','safety','class']]"
   ]
  },
  {
   "cell_type": "code",
   "execution_count": 4,
   "id": "b48fc63c",
   "metadata": {},
   "outputs": [],
   "source": [
    "#mapping\n",
    "buying_m={'vhigh':4,'high':3,'med':2,'low':1}\n",
    "maint_m={'vhigh':4,'high':3,'med':2,'low':1}\n",
    "doors_m={'2':2,'3':3,'4':4,'5more':5}\n",
    "lug_boot_m={'small':1,'med':2,'big':3}\n",
    "safety_m={'low':1,'med':2,'high':3}\n",
    "class_m={'unacc':1,'acc':2,'good':3,'vgood':4}"
   ]
  },
  {
   "cell_type": "code",
   "execution_count": 5,
   "id": "7f66cee4",
   "metadata": {},
   "outputs": [],
   "source": [
    "# convert all string value to numeric value for ML modeling\n",
    "df['buying']=df['buying'].map(buying_m)\n",
    "df['maint']=df['maint'].map(maint_m)\n",
    "df['doors']=df['doors'].map(doors_m)\n",
    "df['lug_boot']=df['lug_boot'].map(lug_boot_m)\n",
    "df['safety']=df['safety'].map(safety_m)\n",
    "df['class']=df['class'].map(class_m)"
   ]
  },
  {
   "cell_type": "code",
   "execution_count": 6,
   "id": "decd18a4",
   "metadata": {},
   "outputs": [],
   "source": [
    "# split the dataframe to train and test dataset with 80/20 ratio\n",
    "train, test = train_test_split(df, test_size=0.2)"
   ]
  },
  {
   "cell_type": "code",
   "execution_count": 7,
   "id": "65e7c2f2",
   "metadata": {
    "scrolled": true
   },
   "outputs": [
    {
     "name": "stdout",
     "output_type": "stream",
     "text": [
      "Shape of training data : (1382, 6)\n",
      "Shape of testing data : (346, 6)\n",
      "Target on train data: [2 4 4 ... 2 4 4]\n",
      "accuracy_score on train dataset :  0.31982633863965265\n",
      "Target on test data: [2 4 2 4 4 4 1 4 4 4 2 4 1 2 4 1 4 1 4 4 4 4 1 2 4 4 4 4 1 2 4 4 4 4 4 4 4\n",
      " 4 4 1 4 4 2 1 4 2 4 4 1 1 4 4 4 2 4 1 4 4 4 4 4 4 4 4 2 1 4 4 1 2 1 4 4 4\n",
      " 4 4 4 4 1 4 4 2 4 4 2 4 4 4 4 4 1 4 4 4 4 4 4 4 4 4 4 4 4 1 4 1 4 4 2 1 2\n",
      " 4 2 1 4 4 4 4 4 4 1 4 4 2 4 4 4 1 4 4 4 4 4 4 4 2 4 1 2 2 1 1 4 4 1 4 4 4\n",
      " 4 4 4 4 4 4 4 4 1 4 2 4 4 4 1 4 1 4 2 2 4 4 4 4 4 1 4 4 1 1 4 4 4 4 4 4 1\n",
      " 1 1 4 2 4 1 4 4 4 1 1 4 4 4 4 4 1 2 1 4 4 4 4 4 2 4 2 4 4 2 4 4 4 4 1 4 4\n",
      " 2 4 4 4 4 4 4 4 4 2 4 4 4 2 2 4 4 4 2 4 4 2 4 1 2 4 1 1 1 2 4 4 4 4 2 4 4\n",
      " 4 4 1 4 4 4 1 2 4 4 4 4 4 4 4 4 4 4 4 4 4 4 4 4 2 4 4 4 4 4 2 4 4 2 2 4 4\n",
      " 1 4 4 4 4 4 1 4 4 4 4 1 4 4 4 2 2 1 4 4 4 4 4 4 4 2 2 4 4 2 4 4 1 4 4 4 4\n",
      " 4 1 4 4 1 4 1 4 4 4 2 4 2]\n",
      "accuracy_score on test dataset :  0.3092485549132948\n"
     ]
    }
   ],
   "source": [
    "# The following code is for Naive Bayes\n",
    "\n",
    "# read the train and test dataset\n",
    "train_data = train\n",
    "test_data = test\n",
    "\n",
    "# shape of the dataset\n",
    "print('Shape of training data :',train_data.shape)\n",
    "print('Shape of testing data :',test_data.shape)\n",
    "\n",
    "\n",
    "# target variable - buying\n",
    "# independent variable - maint,doors,lug_boot,safety,class\n",
    "\n",
    "# seperate the independent and target variable on training data\n",
    "train_x = train_data.drop(columns=['buying'],axis=1)\n",
    "train_y = train_data['buying']\n",
    "\n",
    "# seperate the independent and target variable on testing data\n",
    "test_x = test_data.drop(columns=['buying'],axis=1)\n",
    "test_y = test_data['buying']\n",
    "\n",
    "\n",
    "# Create the object of the Naive Bayes model\n",
    "model = GaussianNB()\n",
    "\n",
    "# fit the model with the training data\n",
    "model.fit(train_x,train_y)\n",
    "\n",
    "# predict the target on the train dataset\n",
    "predict_train = model.predict(train_x)\n",
    "print('Target on train data:',predict_train) \n",
    "\n",
    "# Accuray Score on train dataset\n",
    "accuracy_train = accuracy_score(train_y,predict_train)\n",
    "print('accuracy_score on train dataset : ', accuracy_train)\n",
    "\n",
    "# predict the target on the test dataset\n",
    "predict_test = model.predict(test_x)\n",
    "print('Target on test data:',predict_test) \n",
    "\n",
    "# Accuracy Score on test dataset\n",
    "accuracy_test = accuracy_score(test_y,predict_test)\n",
    "print('accuracy_score on test dataset : ', accuracy_test)"
   ]
  },
  {
   "cell_type": "code",
   "execution_count": null,
   "id": "8398bbbd",
   "metadata": {},
   "outputs": [],
   "source": []
  },
  {
   "cell_type": "code",
   "execution_count": 8,
   "id": "41b74125",
   "metadata": {},
   "outputs": [],
   "source": [
    "# reading file for prediction requirement of task5\n",
    "df_predict = pd.read_csv(\"predict-data.csv\")"
   ]
  },
  {
   "cell_type": "code",
   "execution_count": 9,
   "id": "71f913ab",
   "metadata": {},
   "outputs": [],
   "source": [
    "# make sure it is str type for mapping later\n",
    "df_predict['doors']=df_predict['doors'].astype('str')"
   ]
  },
  {
   "cell_type": "code",
   "execution_count": 10,
   "id": "d908f673",
   "metadata": {},
   "outputs": [],
   "source": [
    "# mapping for later prediction\n",
    "df_predict['maint']=df_predict['maint'].map(maint_m)\n",
    "df_predict['doors']=df_predict['doors'].map(doors_m)\n",
    "df_predict['lug_boot']=df_predict['lug_boot'].map(lug_boot_m)\n",
    "df_predict['safety']=df_predict['safety'].map(safety_m)\n",
    "df_predict['class']=df_predict['class'].map(class_m)"
   ]
  },
  {
   "cell_type": "code",
   "execution_count": 11,
   "id": "15e345c9",
   "metadata": {},
   "outputs": [
    {
     "name": "stdout",
     "output_type": "stream",
     "text": [
      "Target on predict data: [1]\n"
     ]
    }
   ],
   "source": [
    "# predict the target on the predict dataset\n",
    "predict_test_predict = model.predict(df_predict)\n",
    "print('Target on predict data:',predict_test_predict)"
   ]
  },
  {
   "cell_type": "code",
   "execution_count": 12,
   "id": "2f0387b1",
   "metadata": {},
   "outputs": [
    {
     "name": "stdout",
     "output_type": "stream",
     "text": [
      "The predicted buying price given the following parameters: \n",
      "        Maintenance = High; \n",
      "        Number of doors = 4; \n",
      "        Lug Boot Size = Big; \n",
      "        Safety = High; \n",
      "        Class Value = Good\n",
      "is: low\n"
     ]
    }
   ],
   "source": [
    "for i in buying_m.keys():\n",
    "    if buying_m[i] == predict_test_predict[0]:\n",
    "        print(\"\"\"The predicted buying price given the following parameters: \n",
    "        Maintenance = High; \n",
    "        Number of doors = 4; \n",
    "        Lug Boot Size = Big; \n",
    "        Safety = High; \n",
    "        Class Value = Good\n",
    "is:\"\"\", i)"
   ]
  }
 ],
 "metadata": {
  "kernelspec": {
   "display_name": "Python 3",
   "language": "python",
   "name": "python3"
  },
  "language_info": {
   "codemirror_mode": {
    "name": "ipython",
    "version": 3
   },
   "file_extension": ".py",
   "mimetype": "text/x-python",
   "name": "python",
   "nbconvert_exporter": "python",
   "pygments_lexer": "ipython3",
   "version": "3.8.8"
  }
 },
 "nbformat": 4,
 "nbformat_minor": 5
}
